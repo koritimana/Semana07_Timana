{
 "cells": [
  {
   "cell_type": "markdown",
   "id": "ba7b6704",
   "metadata": {},
   "source": [
    "# Semana 07"
   ]
  },
  {
   "cell_type": "markdown",
   "id": "27178f2c",
   "metadata": {},
   "source": [
    "Marcia Kori Timaná Espinoza"
   ]
  },
  {
   "cell_type": "markdown",
   "id": "b3f6d536",
   "metadata": {},
   "source": [
    "Temas:\n",
    "1. Numeros\n",
    "2. Variables"
   ]
  },
  {
   "cell_type": "markdown",
   "id": "458ab890",
   "metadata": {},
   "source": [
    "2. Variables"
   ]
  },
  {
   "cell_type": "raw",
   "id": "319890d2",
   "metadata": {},
   "source": [
    "Siempre deben iniciar con una letra o un guión abajo. (Nunca con un número u otro símbolo)"
   ]
  },
  {
   "cell_type": "code",
   "execution_count": 8,
   "id": "f98122d1",
   "metadata": {},
   "outputs": [],
   "source": [
    "edad = 20"
   ]
  },
  {
   "cell_type": "code",
   "execution_count": 9,
   "id": "eccbda43",
   "metadata": {},
   "outputs": [
    {
     "data": {
      "text/plain": [
       "20"
      ]
     },
     "execution_count": 9,
     "metadata": {},
     "output_type": "execute_result"
    }
   ],
   "source": [
    "edad"
   ]
  },
  {
   "cell_type": "code",
   "execution_count": 10,
   "id": "8ba6ed80",
   "metadata": {},
   "outputs": [],
   "source": [
    "nombre = \"Kori\""
   ]
  },
  {
   "cell_type": "code",
   "execution_count": 11,
   "id": "3150b728",
   "metadata": {},
   "outputs": [
    {
     "data": {
      "text/plain": [
       "'Kori'"
      ]
     },
     "execution_count": 11,
     "metadata": {},
     "output_type": "execute_result"
    }
   ],
   "source": [
    "nombre"
   ]
  },
  {
   "cell_type": "code",
   "execution_count": 20,
   "id": "1f4f6ac1",
   "metadata": {},
   "outputs": [],
   "source": [
    "apellido = \"Timana Espinoza\""
   ]
  },
  {
   "cell_type": "code",
   "execution_count": 21,
   "id": "cbb891a7",
   "metadata": {},
   "outputs": [
    {
     "data": {
      "text/plain": [
       "'Timana Espinoza'"
      ]
     },
     "execution_count": 21,
     "metadata": {},
     "output_type": "execute_result"
    }
   ],
   "source": [
    "apellido"
   ]
  },
  {
   "cell_type": "code",
   "execution_count": 22,
   "id": "2d0bfb94",
   "metadata": {},
   "outputs": [],
   "source": [
    "nombrecompleto = nombre + apellido"
   ]
  },
  {
   "cell_type": "code",
   "execution_count": 23,
   "id": "b26697c7",
   "metadata": {},
   "outputs": [
    {
     "data": {
      "text/plain": [
       "'KoriTimana Espinoza'"
      ]
     },
     "execution_count": 23,
     "metadata": {},
     "output_type": "execute_result"
    }
   ],
   "source": [
    "nombrecompleto"
   ]
  },
  {
   "cell_type": "code",
   "execution_count": 25,
   "id": "6b915669",
   "metadata": {},
   "outputs": [
    {
     "data": {
      "text/plain": [
       "'Kori Timana Espinoza'"
      ]
     },
     "execution_count": 25,
     "metadata": {},
     "output_type": "execute_result"
    }
   ],
   "source": [
    "nombrecompleto = nombre + \" \" + apellido\n",
    "nombrecompleto"
   ]
  },
  {
   "cell_type": "code",
   "execution_count": 26,
   "id": "0cdad418",
   "metadata": {},
   "outputs": [
    {
     "data": {
      "text/plain": [
       "int"
      ]
     },
     "execution_count": 26,
     "metadata": {},
     "output_type": "execute_result"
    }
   ],
   "source": [
    "#Para saber el tipo de variable utilizamos la función (type)\n",
    "#Por ejemplo\n",
    "numero = 50\n",
    "type(numero)"
   ]
  },
  {
   "cell_type": "code",
   "execution_count": 27,
   "id": "dd7e108f",
   "metadata": {},
   "outputs": [
    {
     "data": {
      "text/plain": [
       "str"
      ]
     },
     "execution_count": 27,
     "metadata": {},
     "output_type": "execute_result"
    }
   ],
   "source": [
    "type(nombre)"
   ]
  },
  {
   "cell_type": "code",
   "execution_count": 28,
   "id": "01701e83",
   "metadata": {},
   "outputs": [
    {
     "data": {
      "text/plain": [
       "1.6"
      ]
     },
     "execution_count": 28,
     "metadata": {},
     "output_type": "execute_result"
    }
   ],
   "source": [
    "talla = 1.60\n",
    "talla"
   ]
  },
  {
   "cell_type": "code",
   "execution_count": 29,
   "id": "76c19343",
   "metadata": {},
   "outputs": [
    {
     "data": {
      "text/plain": [
       "float"
      ]
     },
     "execution_count": 29,
     "metadata": {},
     "output_type": "execute_result"
    }
   ],
   "source": [
    "type(talla)"
   ]
  },
  {
   "cell_type": "code",
   "execution_count": 30,
   "id": "c49526d2",
   "metadata": {},
   "outputs": [
    {
     "data": {
      "text/plain": [
       "'100'"
      ]
     },
     "execution_count": 30,
     "metadata": {},
     "output_type": "execute_result"
    }
   ],
   "source": [
    "#Para convertir un numero en cadena utilizamos str()\n",
    "numero = 100\n",
    "cadena = str(numero)\n",
    "cadena"
   ]
  },
  {
   "cell_type": "code",
   "execution_count": 31,
   "id": "1e7cf432",
   "metadata": {},
   "outputs": [
    {
     "data": {
      "text/plain": [
       "str"
      ]
     },
     "execution_count": 31,
     "metadata": {},
     "output_type": "execute_result"
    }
   ],
   "source": [
    "type(cadena)"
   ]
  },
  {
   "cell_type": "code",
   "execution_count": 32,
   "id": "8e407de3",
   "metadata": {},
   "outputs": [
    {
     "data": {
      "text/plain": [
       "50"
      ]
     },
     "execution_count": 32,
     "metadata": {},
     "output_type": "execute_result"
    }
   ],
   "source": [
    "#Para convertir una cadena en un entero utilizamos int()\n",
    "cadena2 = \"50\"\n",
    "numero2 = int(cadena2)\n",
    "numero2"
   ]
  },
  {
   "cell_type": "code",
   "execution_count": 33,
   "id": "3397437e",
   "metadata": {},
   "outputs": [
    {
     "data": {
      "text/plain": [
       "int"
      ]
     },
     "execution_count": 33,
     "metadata": {},
     "output_type": "execute_result"
    }
   ],
   "source": [
    "type(numero2)"
   ]
  },
  {
   "cell_type": "code",
   "execution_count": 34,
   "id": "fe6a33e9",
   "metadata": {},
   "outputs": [
    {
     "data": {
      "text/plain": [
       "50.0"
      ]
     },
     "execution_count": 34,
     "metadata": {},
     "output_type": "execute_result"
    }
   ],
   "source": [
    "#Para convertir una cadena a un decimal utilizamos float()\n",
    "cadena2 = \"50\"\n",
    "numero2 = float(cadena2)\n",
    "numero2"
   ]
  },
  {
   "cell_type": "code",
   "execution_count": 35,
   "id": "2bdaea14",
   "metadata": {},
   "outputs": [
    {
     "data": {
      "text/plain": [
       "float"
      ]
     },
     "execution_count": 35,
     "metadata": {},
     "output_type": "execute_result"
    }
   ],
   "source": [
    "type(numero2)"
   ]
  },
  {
   "cell_type": "code",
   "execution_count": null,
   "id": "adedb63e",
   "metadata": {},
   "outputs": [],
   "source": []
  }
 ],
 "metadata": {
  "kernelspec": {
   "display_name": "Python 3 (ipykernel)",
   "language": "python",
   "name": "python3"
  },
  "language_info": {
   "codemirror_mode": {
    "name": "ipython",
    "version": 3
   },
   "file_extension": ".py",
   "mimetype": "text/x-python",
   "name": "python",
   "nbconvert_exporter": "python",
   "pygments_lexer": "ipython3",
   "version": "3.9.12"
  }
 },
 "nbformat": 4,
 "nbformat_minor": 5
}
