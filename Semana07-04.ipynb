{
 "cells": [
  {
   "cell_type": "markdown",
   "id": "57846976",
   "metadata": {},
   "source": [
    "# Semana 07\n",
    "Marcia Kori Timaná Espinoza"
   ]
  },
  {
   "cell_type": "raw",
   "id": "2c9cd300",
   "metadata": {},
   "source": [
    "Temas:\n",
    "1. Números\n",
    "2. variables\n",
    "3. Manejo de cadenas\n",
    "4. Ingreso de Datos por el Teclado\n",
    "5. Operadores"
   ]
  },
  {
   "cell_type": "markdown",
   "id": "2a13798e",
   "metadata": {},
   "source": [
    "4. Ingreso de Datos por el Teclado"
   ]
  },
  {
   "cell_type": "code",
   "execution_count": 4,
   "id": "61e83805",
   "metadata": {},
   "outputs": [
    {
     "name": "stdout",
     "output_type": "stream",
     "text": [
      "¿Cual es tu nombre?\n",
      "Kori\n",
      "hola Kori\n"
     ]
    }
   ],
   "source": [
    "#Funcion input()\n",
    "print(\"¿Cual es tu nombre?\")\n",
    "nombre = input()\n",
    "print(\"hola \" + nombre)"
   ]
  },
  {
   "cell_type": "code",
   "execution_count": 8,
   "id": "dc533d4d",
   "metadata": {},
   "outputs": [
    {
     "name": "stdout",
     "output_type": "stream",
     "text": [
      "número 1: \n",
      "31\n",
      "número 2: \n",
      "27\n",
      "El resultado es 58\n"
     ]
    }
   ],
   "source": [
    "#Cuando ingresa un valor por teclado lo hace como cadena\n",
    "print(\"número 1: \")\n",
    "numero1 = input()\n",
    "print(\"número 2: \")\n",
    "numero2 = input()\n",
    "numero3 = int(numero1) + int(numero2)\n",
    "print(f\"El resultado es {numero3}\")"
   ]
  },
  {
   "cell_type": "code",
   "execution_count": null,
   "id": "efaf4383",
   "metadata": {},
   "outputs": [],
   "source": []
  }
 ],
 "metadata": {
  "kernelspec": {
   "display_name": "Python 3 (ipykernel)",
   "language": "python",
   "name": "python3"
  },
  "language_info": {
   "codemirror_mode": {
    "name": "ipython",
    "version": 3
   },
   "file_extension": ".py",
   "mimetype": "text/x-python",
   "name": "python",
   "nbconvert_exporter": "python",
   "pygments_lexer": "ipython3",
   "version": "3.9.12"
  }
 },
 "nbformat": 4,
 "nbformat_minor": 5
}
